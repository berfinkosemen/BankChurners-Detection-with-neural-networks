{
  "nbformat": 4,
  "nbformat_minor": 5,
  "metadata": {
    "colab": {
      "name": "nöron_ödev.ipynb",
      "provenance": [],
      "collapsed_sections": []
    },
    "kernelspec": {
      "display_name": "Python 3",
      "language": "python",
      "name": "python3"
    },
    "language_info": {
      "codemirror_mode": {
        "name": "ipython",
        "version": 3
      },
      "file_extension": ".py",
      "mimetype": "text/x-python",
      "name": "python",
      "nbconvert_exporter": "python",
      "pygments_lexer": "ipython3",
      "version": "3.8.5"
    }
  },
  "cells": [
    {
      "cell_type": "markdown",
      "metadata": {
        "id": "xqUeCIx-jbAy"
      },
      "source": [
        "<h2 style=\"text-align:center\">KREDİ KARTI MÜŞTERİ KAYBI TAHMİNİ</h2>"
      ],
      "id": "xqUeCIx-jbAy"
    },
    {
      "cell_type": "markdown",
      "metadata": {
        "id": "4QYlB9yfjbA8"
      },
      "source": [
        "<img src=\"https://i.hizliresim.com/7gryx4d.jpg\">"
      ],
      "id": "4QYlB9yfjbA8"
    },
    {
      "cell_type": "code",
      "metadata": {
        "id": "cd20db14"
      },
      "source": [
        "#gerekli kütüphanelerin import edilmesi\n",
        "import pandas as pd\n",
        "import numpy as np # kullanmamışım\n",
        "import matplotlib.pyplot as plt\n",
        "import seaborn as sns\n",
        "\n",
        "from random import randrange\n",
        "from random import random\n",
        "from math import exp\n",
        "from sklearn.preprocessing import LabelEncoder"
      ],
      "id": "cd20db14",
      "execution_count": 93,
      "outputs": []
    },
    {
      "cell_type": "code",
      "metadata": {
        "colab": {
          "base_uri": "https://localhost:8080/",
          "height": 299
        },
        "id": "15bc5161",
        "outputId": "4115afce-4db1-4afe-e0fe-26ae9266ed89"
      },
      "source": [
        "#adresi verilien csv formatlı veri setinin okunması\n",
        "#head() fonksiyonu ilk 5 satırı listelenmesini sağlar, aldığı parametre ile istediği sayıda satır yazdırabilir\n",
        "veri = pd.read_csv(\"/content/drive/MyDrive/Nöron Proje/BankChurners.csv\")\n",
        "veri.head()"
      ],
      "id": "15bc5161",
      "execution_count": 94,
      "outputs": [
        {
          "output_type": "execute_result",
          "data": {
            "text/html": [
              "<div>\n",
              "<style scoped>\n",
              "    .dataframe tbody tr th:only-of-type {\n",
              "        vertical-align: middle;\n",
              "    }\n",
              "\n",
              "    .dataframe tbody tr th {\n",
              "        vertical-align: top;\n",
              "    }\n",
              "\n",
              "    .dataframe thead th {\n",
              "        text-align: right;\n",
              "    }\n",
              "</style>\n",
              "<table border=\"1\" class=\"dataframe\">\n",
              "  <thead>\n",
              "    <tr style=\"text-align: right;\">\n",
              "      <th></th>\n",
              "      <th>CLIENTNUM</th>\n",
              "      <th>Attrition_Flag</th>\n",
              "      <th>Customer_Age</th>\n",
              "      <th>Gender</th>\n",
              "      <th>Dependent_count</th>\n",
              "      <th>Education_Level</th>\n",
              "      <th>Marital_Status</th>\n",
              "      <th>Income_Category</th>\n",
              "      <th>Card_Category</th>\n",
              "      <th>Months_on_book</th>\n",
              "      <th>Total_Relationship_Count</th>\n",
              "      <th>Months_Inactive_12_mon</th>\n",
              "      <th>Contacts_Count_12_mon</th>\n",
              "      <th>Credit_Limit</th>\n",
              "      <th>Total_Revolving_Bal</th>\n",
              "      <th>Avg_Open_To_Buy</th>\n",
              "      <th>Total_Amt_Chng_Q4_Q1</th>\n",
              "      <th>Total_Trans_Amt</th>\n",
              "      <th>Total_Trans_Ct</th>\n",
              "      <th>Total_Ct_Chng_Q4_Q1</th>\n",
              "      <th>Avg_Utilization_Ratio</th>\n",
              "      <th>Naive_Bayes_Classifier_Attrition_Flag_Card_Category_Contacts_Count_12_mon_Dependent_count_Education_Level_Months_Inactive_12_mon_1</th>\n",
              "      <th>Naive_Bayes_Classifier_Attrition_Flag_Card_Category_Contacts_Count_12_mon_Dependent_count_Education_Level_Months_Inactive_12_mon_2</th>\n",
              "    </tr>\n",
              "  </thead>\n",
              "  <tbody>\n",
              "    <tr>\n",
              "      <th>0</th>\n",
              "      <td>768805383</td>\n",
              "      <td>Existing Customer</td>\n",
              "      <td>45</td>\n",
              "      <td>M</td>\n",
              "      <td>3</td>\n",
              "      <td>High School</td>\n",
              "      <td>Married</td>\n",
              "      <td>$60K - $80K</td>\n",
              "      <td>Blue</td>\n",
              "      <td>39</td>\n",
              "      <td>5</td>\n",
              "      <td>1</td>\n",
              "      <td>3</td>\n",
              "      <td>12691.0</td>\n",
              "      <td>777</td>\n",
              "      <td>11914.0</td>\n",
              "      <td>1.335</td>\n",
              "      <td>1144</td>\n",
              "      <td>42</td>\n",
              "      <td>1.625</td>\n",
              "      <td>0.061</td>\n",
              "      <td>0.000093</td>\n",
              "      <td>0.99991</td>\n",
              "    </tr>\n",
              "    <tr>\n",
              "      <th>1</th>\n",
              "      <td>818770008</td>\n",
              "      <td>Existing Customer</td>\n",
              "      <td>49</td>\n",
              "      <td>F</td>\n",
              "      <td>5</td>\n",
              "      <td>Graduate</td>\n",
              "      <td>Single</td>\n",
              "      <td>Less than $40K</td>\n",
              "      <td>Blue</td>\n",
              "      <td>44</td>\n",
              "      <td>6</td>\n",
              "      <td>1</td>\n",
              "      <td>2</td>\n",
              "      <td>8256.0</td>\n",
              "      <td>864</td>\n",
              "      <td>7392.0</td>\n",
              "      <td>1.541</td>\n",
              "      <td>1291</td>\n",
              "      <td>33</td>\n",
              "      <td>3.714</td>\n",
              "      <td>0.105</td>\n",
              "      <td>0.000057</td>\n",
              "      <td>0.99994</td>\n",
              "    </tr>\n",
              "    <tr>\n",
              "      <th>2</th>\n",
              "      <td>713982108</td>\n",
              "      <td>Existing Customer</td>\n",
              "      <td>51</td>\n",
              "      <td>M</td>\n",
              "      <td>3</td>\n",
              "      <td>Graduate</td>\n",
              "      <td>Married</td>\n",
              "      <td>$80K - $120K</td>\n",
              "      <td>Blue</td>\n",
              "      <td>36</td>\n",
              "      <td>4</td>\n",
              "      <td>1</td>\n",
              "      <td>0</td>\n",
              "      <td>3418.0</td>\n",
              "      <td>0</td>\n",
              "      <td>3418.0</td>\n",
              "      <td>2.594</td>\n",
              "      <td>1887</td>\n",
              "      <td>20</td>\n",
              "      <td>2.333</td>\n",
              "      <td>0.000</td>\n",
              "      <td>0.000021</td>\n",
              "      <td>0.99998</td>\n",
              "    </tr>\n",
              "    <tr>\n",
              "      <th>3</th>\n",
              "      <td>769911858</td>\n",
              "      <td>Existing Customer</td>\n",
              "      <td>40</td>\n",
              "      <td>F</td>\n",
              "      <td>4</td>\n",
              "      <td>High School</td>\n",
              "      <td>Unknown</td>\n",
              "      <td>Less than $40K</td>\n",
              "      <td>Blue</td>\n",
              "      <td>34</td>\n",
              "      <td>3</td>\n",
              "      <td>4</td>\n",
              "      <td>1</td>\n",
              "      <td>3313.0</td>\n",
              "      <td>2517</td>\n",
              "      <td>796.0</td>\n",
              "      <td>1.405</td>\n",
              "      <td>1171</td>\n",
              "      <td>20</td>\n",
              "      <td>2.333</td>\n",
              "      <td>0.760</td>\n",
              "      <td>0.000134</td>\n",
              "      <td>0.99987</td>\n",
              "    </tr>\n",
              "    <tr>\n",
              "      <th>4</th>\n",
              "      <td>709106358</td>\n",
              "      <td>Existing Customer</td>\n",
              "      <td>40</td>\n",
              "      <td>M</td>\n",
              "      <td>3</td>\n",
              "      <td>Uneducated</td>\n",
              "      <td>Married</td>\n",
              "      <td>$60K - $80K</td>\n",
              "      <td>Blue</td>\n",
              "      <td>21</td>\n",
              "      <td>5</td>\n",
              "      <td>1</td>\n",
              "      <td>0</td>\n",
              "      <td>4716.0</td>\n",
              "      <td>0</td>\n",
              "      <td>4716.0</td>\n",
              "      <td>2.175</td>\n",
              "      <td>816</td>\n",
              "      <td>28</td>\n",
              "      <td>2.500</td>\n",
              "      <td>0.000</td>\n",
              "      <td>0.000022</td>\n",
              "      <td>0.99998</td>\n",
              "    </tr>\n",
              "  </tbody>\n",
              "</table>\n",
              "</div>"
            ],
            "text/plain": [
              "   CLIENTNUM  ... Naive_Bayes_Classifier_Attrition_Flag_Card_Category_Contacts_Count_12_mon_Dependent_count_Education_Level_Months_Inactive_12_mon_2\n",
              "0  768805383  ...                                            0.99991                                                                                \n",
              "1  818770008  ...                                            0.99994                                                                                \n",
              "2  713982108  ...                                            0.99998                                                                                \n",
              "3  769911858  ...                                            0.99987                                                                                \n",
              "4  709106358  ...                                            0.99998                                                                                \n",
              "\n",
              "[5 rows x 23 columns]"
            ]
          },
          "metadata": {
            "tags": []
          },
          "execution_count": 94
        }
      ]
    },
    {
      "cell_type": "code",
      "metadata": {
        "colab": {
          "base_uri": "https://localhost:8080/",
          "height": 299
        },
        "id": "537e50bc",
        "outputId": "3c82a0d2-0c24-4742-dd63-8f65220410ac"
      },
      "source": [
        "#Sütun değerlerinde null değere sahip sütunların drop edilmesi işlemi\n",
        "veri = veri.drop(['Naive_Bayes_Classifier_Attrition_Flag_Card_Category_Contacts_Count_12_mon_Dependent_count_Education_Level_Months_Inactive_12_mon_1', 'Naive_Bayes_Classifier_Attrition_Flag_Card_Category_Contacts_Count_12_mon_Dependent_count_Education_Level_Months_Inactive_12_mon_2'], axis = 1)\n",
        "veri.head()"
      ],
      "id": "537e50bc",
      "execution_count": 95,
      "outputs": [
        {
          "output_type": "execute_result",
          "data": {
            "text/html": [
              "<div>\n",
              "<style scoped>\n",
              "    .dataframe tbody tr th:only-of-type {\n",
              "        vertical-align: middle;\n",
              "    }\n",
              "\n",
              "    .dataframe tbody tr th {\n",
              "        vertical-align: top;\n",
              "    }\n",
              "\n",
              "    .dataframe thead th {\n",
              "        text-align: right;\n",
              "    }\n",
              "</style>\n",
              "<table border=\"1\" class=\"dataframe\">\n",
              "  <thead>\n",
              "    <tr style=\"text-align: right;\">\n",
              "      <th></th>\n",
              "      <th>CLIENTNUM</th>\n",
              "      <th>Attrition_Flag</th>\n",
              "      <th>Customer_Age</th>\n",
              "      <th>Gender</th>\n",
              "      <th>Dependent_count</th>\n",
              "      <th>Education_Level</th>\n",
              "      <th>Marital_Status</th>\n",
              "      <th>Income_Category</th>\n",
              "      <th>Card_Category</th>\n",
              "      <th>Months_on_book</th>\n",
              "      <th>Total_Relationship_Count</th>\n",
              "      <th>Months_Inactive_12_mon</th>\n",
              "      <th>Contacts_Count_12_mon</th>\n",
              "      <th>Credit_Limit</th>\n",
              "      <th>Total_Revolving_Bal</th>\n",
              "      <th>Avg_Open_To_Buy</th>\n",
              "      <th>Total_Amt_Chng_Q4_Q1</th>\n",
              "      <th>Total_Trans_Amt</th>\n",
              "      <th>Total_Trans_Ct</th>\n",
              "      <th>Total_Ct_Chng_Q4_Q1</th>\n",
              "      <th>Avg_Utilization_Ratio</th>\n",
              "    </tr>\n",
              "  </thead>\n",
              "  <tbody>\n",
              "    <tr>\n",
              "      <th>0</th>\n",
              "      <td>768805383</td>\n",
              "      <td>Existing Customer</td>\n",
              "      <td>45</td>\n",
              "      <td>M</td>\n",
              "      <td>3</td>\n",
              "      <td>High School</td>\n",
              "      <td>Married</td>\n",
              "      <td>$60K - $80K</td>\n",
              "      <td>Blue</td>\n",
              "      <td>39</td>\n",
              "      <td>5</td>\n",
              "      <td>1</td>\n",
              "      <td>3</td>\n",
              "      <td>12691.0</td>\n",
              "      <td>777</td>\n",
              "      <td>11914.0</td>\n",
              "      <td>1.335</td>\n",
              "      <td>1144</td>\n",
              "      <td>42</td>\n",
              "      <td>1.625</td>\n",
              "      <td>0.061</td>\n",
              "    </tr>\n",
              "    <tr>\n",
              "      <th>1</th>\n",
              "      <td>818770008</td>\n",
              "      <td>Existing Customer</td>\n",
              "      <td>49</td>\n",
              "      <td>F</td>\n",
              "      <td>5</td>\n",
              "      <td>Graduate</td>\n",
              "      <td>Single</td>\n",
              "      <td>Less than $40K</td>\n",
              "      <td>Blue</td>\n",
              "      <td>44</td>\n",
              "      <td>6</td>\n",
              "      <td>1</td>\n",
              "      <td>2</td>\n",
              "      <td>8256.0</td>\n",
              "      <td>864</td>\n",
              "      <td>7392.0</td>\n",
              "      <td>1.541</td>\n",
              "      <td>1291</td>\n",
              "      <td>33</td>\n",
              "      <td>3.714</td>\n",
              "      <td>0.105</td>\n",
              "    </tr>\n",
              "    <tr>\n",
              "      <th>2</th>\n",
              "      <td>713982108</td>\n",
              "      <td>Existing Customer</td>\n",
              "      <td>51</td>\n",
              "      <td>M</td>\n",
              "      <td>3</td>\n",
              "      <td>Graduate</td>\n",
              "      <td>Married</td>\n",
              "      <td>$80K - $120K</td>\n",
              "      <td>Blue</td>\n",
              "      <td>36</td>\n",
              "      <td>4</td>\n",
              "      <td>1</td>\n",
              "      <td>0</td>\n",
              "      <td>3418.0</td>\n",
              "      <td>0</td>\n",
              "      <td>3418.0</td>\n",
              "      <td>2.594</td>\n",
              "      <td>1887</td>\n",
              "      <td>20</td>\n",
              "      <td>2.333</td>\n",
              "      <td>0.000</td>\n",
              "    </tr>\n",
              "    <tr>\n",
              "      <th>3</th>\n",
              "      <td>769911858</td>\n",
              "      <td>Existing Customer</td>\n",
              "      <td>40</td>\n",
              "      <td>F</td>\n",
              "      <td>4</td>\n",
              "      <td>High School</td>\n",
              "      <td>Unknown</td>\n",
              "      <td>Less than $40K</td>\n",
              "      <td>Blue</td>\n",
              "      <td>34</td>\n",
              "      <td>3</td>\n",
              "      <td>4</td>\n",
              "      <td>1</td>\n",
              "      <td>3313.0</td>\n",
              "      <td>2517</td>\n",
              "      <td>796.0</td>\n",
              "      <td>1.405</td>\n",
              "      <td>1171</td>\n",
              "      <td>20</td>\n",
              "      <td>2.333</td>\n",
              "      <td>0.760</td>\n",
              "    </tr>\n",
              "    <tr>\n",
              "      <th>4</th>\n",
              "      <td>709106358</td>\n",
              "      <td>Existing Customer</td>\n",
              "      <td>40</td>\n",
              "      <td>M</td>\n",
              "      <td>3</td>\n",
              "      <td>Uneducated</td>\n",
              "      <td>Married</td>\n",
              "      <td>$60K - $80K</td>\n",
              "      <td>Blue</td>\n",
              "      <td>21</td>\n",
              "      <td>5</td>\n",
              "      <td>1</td>\n",
              "      <td>0</td>\n",
              "      <td>4716.0</td>\n",
              "      <td>0</td>\n",
              "      <td>4716.0</td>\n",
              "      <td>2.175</td>\n",
              "      <td>816</td>\n",
              "      <td>28</td>\n",
              "      <td>2.500</td>\n",
              "      <td>0.000</td>\n",
              "    </tr>\n",
              "  </tbody>\n",
              "</table>\n",
              "</div>"
            ],
            "text/plain": [
              "   CLIENTNUM     Attrition_Flag  ...  Total_Ct_Chng_Q4_Q1 Avg_Utilization_Ratio\n",
              "0  768805383  Existing Customer  ...                1.625                 0.061\n",
              "1  818770008  Existing Customer  ...                3.714                 0.105\n",
              "2  713982108  Existing Customer  ...                2.333                 0.000\n",
              "3  769911858  Existing Customer  ...                2.333                 0.760\n",
              "4  709106358  Existing Customer  ...                2.500                 0.000\n",
              "\n",
              "[5 rows x 21 columns]"
            ]
          },
          "metadata": {
            "tags": []
          },
          "execution_count": 95
        }
      ]
    },
    {
      "cell_type": "code",
      "metadata": {
        "colab": {
          "base_uri": "https://localhost:8080/"
        },
        "id": "3fcbc0f0",
        "outputId": "47965096-e6b2-4aa3-be2e-46caaf844981"
      },
      "source": [
        "#veri seti içinde bulunan girdilerin türlerini sorgulama\n",
        "veri.info()"
      ],
      "id": "3fcbc0f0",
      "execution_count": 96,
      "outputs": [
        {
          "output_type": "stream",
          "text": [
            "<class 'pandas.core.frame.DataFrame'>\n",
            "RangeIndex: 10127 entries, 0 to 10126\n",
            "Data columns (total 21 columns):\n",
            " #   Column                    Non-Null Count  Dtype  \n",
            "---  ------                    --------------  -----  \n",
            " 0   CLIENTNUM                 10127 non-null  int64  \n",
            " 1   Attrition_Flag            10127 non-null  object \n",
            " 2   Customer_Age              10127 non-null  int64  \n",
            " 3   Gender                    10127 non-null  object \n",
            " 4   Dependent_count           10127 non-null  int64  \n",
            " 5   Education_Level           10127 non-null  object \n",
            " 6   Marital_Status            10127 non-null  object \n",
            " 7   Income_Category           10127 non-null  object \n",
            " 8   Card_Category             10127 non-null  object \n",
            " 9   Months_on_book            10127 non-null  int64  \n",
            " 10  Total_Relationship_Count  10127 non-null  int64  \n",
            " 11  Months_Inactive_12_mon    10127 non-null  int64  \n",
            " 12  Contacts_Count_12_mon     10127 non-null  int64  \n",
            " 13  Credit_Limit              10127 non-null  float64\n",
            " 14  Total_Revolving_Bal       10127 non-null  int64  \n",
            " 15  Avg_Open_To_Buy           10127 non-null  float64\n",
            " 16  Total_Amt_Chng_Q4_Q1      10127 non-null  float64\n",
            " 17  Total_Trans_Amt           10127 non-null  int64  \n",
            " 18  Total_Trans_Ct            10127 non-null  int64  \n",
            " 19  Total_Ct_Chng_Q4_Q1       10127 non-null  float64\n",
            " 20  Avg_Utilization_Ratio     10127 non-null  float64\n",
            "dtypes: float64(5), int64(10), object(6)\n",
            "memory usage: 1.6+ MB\n"
          ],
          "name": "stdout"
        }
      ]
    },
    {
      "cell_type": "markdown",
      "metadata": {
        "id": "9e946cf4",
        "outputId": "ceaa7d42-2e5d-4c95-a635-0dd2fec56a34"
      },
      "source": [
        "\n",
        "\n",
        "<h2 style=\"text-align:center\">Veriseti İçindeki Özellikler</h2>\n",
        "\n",
        "<ul>\n",
        "    \n",
        "<li><b>CLIENTNUM :</b> Müşteri numarası (Unique değerdir)</li>\n",
        "<li><b>Attrition_Flag :</b> Dahili olay değişkeni (Hesap kapatılırsa 0 açık ise 1)</li>\n",
        "<li><b>Customer_Age :</b> Müşteri yaşı</li>\n",
        "<li><b>Gender :</b> Cinsiyet F= Female M= Male</li>\n",
        "<li><b>Dependent_count :</b> Bağımlıların sayısı</li>\n",
        "<li><b>Education_Level :</b> Müşterilerin eğitim seviyesi (high school, college graduate, etc.)</li>\n",
        "<li><b>Marital_Status :</b> Evlilik Durumu (Married, Single, Divorced, Unknown)</li>\n",
        "<li><b>Income_Category :</b> Gelir Kategorisi(40K, 40K - 60K, 60K - 80K, 80K-120K)</li>\n",
        "<li><b>Card_Category :</b> (Blue, Silver, Gold, Platinum)</li>\n",
        "<li><b>Months_on_book :</b> Banka ile ilişki dönemi</li>\n",
        "<li><b>Total_Relationship_Count :</b> Müşteri tarafından tutulan toplam ürün</li>\n",
        "<li><b>Months_Inactive_12_mon :</b> Son 12 ayda etkin olmayan ay sayısı </li>\n",
        "<li><b> Contacts_Count_12_mon: </b>Son 12 ayda Kişilerin</li> \n",
        "<li><b> Credit_Limit: </b> Kredi Kartında Kredi Limiti</li> \n",
        "<li><b> Total_Revolving_Bal: </b>Kredi Kartındaki Toplam Döner Bakiye</li> \n",
        "<li><b> Avg_Open_To_Buy: </b>Satın Almak İçin Açık Kredi Limiti (Son 12 ayın ortalaması)</li> \n",
        "<li><b> Total_Amt_Chng_Q4_Q1: </b>İşlem Tutarındaki Değişiklik (1. Çeyreğe göre 4. Çeyrek)</li> \n",
        "<li><b> Total_Trans_Amt: </b>Toplam İşlem Tutarı (Son 12 ay)</li> \n",
        "<li><b> Total_Trans_Ct: </b>Toplam İşlem Sayısı (Son 12 ay)</li> \n",
        "<li><b> Total_Ct_Chng_Q4_Q1: </b>İşlem Sayısındaki Değişim (4. Çeyreğe göre 4. Çeyrek)</li> \n",
        "<li><b> Avg_Utilization_Ratio: </b> Ortalama Kart Kullanım Oranı   </li>\n",
        "    \n",
        "</ul>\n"
      ],
      "id": "9e946cf4"
    },
    {
      "cell_type": "code",
      "metadata": {
        "colab": {
          "base_uri": "https://localhost:8080/",
          "height": 498
        },
        "id": "d4bcab60",
        "outputId": "5353cf30-4275-4490-f83b-6e9b74d25c89"
      },
      "source": [
        "#Verileri Analiz Et\n",
        "plt.figure(figsize = (15,8))\n",
        "sns.countplot(x = veri['Attrition_Flag'], edgecolor = 'black', saturation = 0.55)\n",
        "plt.show()"
      ],
      "id": "d4bcab60",
      "execution_count": 97,
      "outputs": [
        {
          "output_type": "display_data",
          "data": {
            "image/png": "[encoded data removed]",
            "text/plain": [
              "<Figure size 1080x576 with 1 Axes>"
            ]
          },
          "metadata": {
            "tags": [],
            "needs_background": "light"
          }
        }
      ]
    },
    {
      "cell_type": "code",
      "metadata": {
        "colab": {
          "base_uri": "https://localhost:8080/",
          "height": 498
        },
        "id": "3351087e",
        "outputId": "0114a787-98da-4143-c1d3-af1bc80892c7"
      },
      "source": [
        "#Kart türü - Cinsiyet grafiği\n",
        "\n",
        "plt.figure(figsize = (15, 8))\n",
        "sns.countplot(x = veri['Card_Category'], hue = veri['Gender'], edgecolor = 'black', saturation = 0.55)\n",
        "plt.show()"
      ],
      "id": "3351087e",
      "execution_count": 98,
      "outputs": [
        {
          "output_type": "display_data",
          "data": {
            "image/png": "[encoded data removed]",
            "text/plain": [
              "<Figure size 1080x576 with 1 Axes>"
            ]
          },
          "metadata": {
            "tags": [],
            "needs_background": "light"
          }
        }
      ]
    },
    {
      "cell_type": "code",
      "metadata": {
        "colab": {
          "base_uri": "https://localhost:8080/",
          "height": 498
        },
        "id": "67f1ec7b",
        "scrolled": true,
        "outputId": "b0514f10-eaba-4f53-8108-e9eeb94afe76"
      },
      "source": [
        "#Eğitim seviyelerine göre verilerin görselleştirilmesi\n",
        "plt.figure(figsize = (15,8))\n",
        "sns.countplot(x= veri['Education_Level'], edgecolor = 'black', saturation = 0.55)\n",
        "plt.show()"
      ],
      "id": "67f1ec7b",
      "execution_count": 99,
      "outputs": [
        {
          "output_type": "display_data",
          "data": {
            "image/png": "[encoded data removed]",
            "text/plain": [
              "<Figure size 1080x576 with 1 Axes>"
            ]
          },
          "metadata": {
            "tags": [],
            "needs_background": "light"
          }
        }
      ]
    },
    {
      "cell_type": "code",
      "metadata": {
        "colab": {
          "base_uri": "https://localhost:8080/",
          "height": 498
        },
        "id": "ae4f3fd4",
        "outputId": "5cd9c9d1-a428-4961-de80-ee22b803aec6"
      },
      "source": [
        "#Evlilik durumlarına göre verilerin görselleştirilmesi\n",
        "\n",
        "plt.figure(figsize = (15,8))\n",
        "sns.countplot(x = veri['Marital_Status'], edgecolor = 'black', saturation = 0.55)\n",
        "plt.show()"
      ],
      "id": "ae4f3fd4",
      "execution_count": 100,
      "outputs": [
        {
          "output_type": "display_data",
          "data": {
            "image/png": "[encoded data removed]",
            "text/plain": [
              "<Figure size 1080x576 with 1 Axes>"
            ]
          },
          "metadata": {
            "tags": [],
            "needs_background": "light"
          }
        }
      ]
    },
    {
      "cell_type": "code",
      "metadata": {
        "colab": {
          "base_uri": "https://localhost:8080/",
          "height": 500
        },
        "id": "2ce6d803",
        "outputId": "b8d865fe-d0f7-4d23-a720-0de3e977025f"
      },
      "source": [
        "#Gelir durumuna göre sınıflandırma yapılması\n",
        "\n",
        "plt.figure(figsize = (15,8))\n",
        "sns.countplot(x = veri['Income_Category'], edgecolor = 'black', saturation = 0.55)\n",
        "plt.show()"
      ],
      "id": "2ce6d803",
      "execution_count": 101,
      "outputs": [
        {
          "output_type": "display_data",
          "data": {
            "image/png": "[encoded data removed]",
            "text/plain": [
              "<Figure size 1080x576 with 1 Axes>"
            ]
          },
          "metadata": {
            "tags": [],
            "needs_background": "light"
          }
        }
      ]
    },
    {
      "cell_type": "code",
      "metadata": {
        "colab": {
          "base_uri": "https://localhost:8080/"
        },
        "id": "1f1c482f",
        "outputId": "fc2a652d-82e8-4e26-fbf9-e84960c5b523"
      },
      "source": [
        "# Boşluk değere sahip olmayan sütunların varlığından emin olmak için sorgulama işlemi\n",
        "veri.isnull().sum()"
      ],
      "id": "1f1c482f",
      "execution_count": 102,
      "outputs": [
        {
          "output_type": "execute_result",
          "data": {
            "text/plain": [
              "CLIENTNUM                   0\n",
              "Attrition_Flag              0\n",
              "Customer_Age                0\n",
              "Gender                      0\n",
              "Dependent_count             0\n",
              "Education_Level             0\n",
              "Marital_Status              0\n",
              "Income_Category             0\n",
              "Card_Category               0\n",
              "Months_on_book              0\n",
              "Total_Relationship_Count    0\n",
              "Months_Inactive_12_mon      0\n",
              "Contacts_Count_12_mon       0\n",
              "Credit_Limit                0\n",
              "Total_Revolving_Bal         0\n",
              "Avg_Open_To_Buy             0\n",
              "Total_Amt_Chng_Q4_Q1        0\n",
              "Total_Trans_Amt             0\n",
              "Total_Trans_Ct              0\n",
              "Total_Ct_Chng_Q4_Q1         0\n",
              "Avg_Utilization_Ratio       0\n",
              "dtype: int64"
            ]
          },
          "metadata": {
            "tags": []
          },
          "execution_count": 102
        }
      ]
    },
    {
      "cell_type": "code",
      "metadata": {
        "colab": {
          "base_uri": "https://localhost:8080/"
        },
        "id": "167eeb3a",
        "outputId": "217e0129-5bf7-4f96-d8ac-db893ccd9672"
      },
      "source": [
        "#Uniq değere sahip olmayan parametlerin tespiti ve \n",
        "veri.nunique()"
      ],
      "id": "167eeb3a",
      "execution_count": 103,
      "outputs": [
        {
          "output_type": "execute_result",
          "data": {
            "text/plain": [
              "CLIENTNUM                   10127\n",
              "Attrition_Flag                  2\n",
              "Customer_Age                   45\n",
              "Gender                          2\n",
              "Dependent_count                 6\n",
              "Education_Level                 7\n",
              "Marital_Status                  4\n",
              "Income_Category                 6\n",
              "Card_Category                   4\n",
              "Months_on_book                 44\n",
              "Total_Relationship_Count        6\n",
              "Months_Inactive_12_mon          7\n",
              "Contacts_Count_12_mon           7\n",
              "Credit_Limit                 6205\n",
              "Total_Revolving_Bal          1974\n",
              "Avg_Open_To_Buy              6813\n",
              "Total_Amt_Chng_Q4_Q1         1158\n",
              "Total_Trans_Amt              5033\n",
              "Total_Trans_Ct                126\n",
              "Total_Ct_Chng_Q4_Q1           830\n",
              "Avg_Utilization_Ratio         964\n",
              "dtype: int64"
            ]
          },
          "metadata": {
            "tags": []
          },
          "execution_count": 103
        }
      ]
    },
    {
      "cell_type": "code",
      "metadata": {
        "id": "91c8f243"
      },
      "source": [
        "#CLIENTNUM is non unique has values so we can't take for train dataset\n",
        "veri = veri.drop([\"CLIENTNUM\"],axis = 1)"
      ],
      "id": "91c8f243",
      "execution_count": 104,
      "outputs": []
    },
    {
      "cell_type": "code",
      "metadata": {
        "id": "2724e078"
      },
      "source": [
        "lbe = LabelEncoder()\n",
        "cat_cols = [x for x in veri.columns if veri[x].dtype == 'object']\n",
        "for c in cat_cols:\n",
        "    veri.loc[:, c] = lbe.fit_transform(veri.loc[:, c])"
      ],
      "id": "2724e078",
      "execution_count": 105,
      "outputs": []
    },
    {
      "cell_type": "code",
      "metadata": {
        "colab": {
          "base_uri": "https://localhost:8080/",
          "height": 215
        },
        "id": "1de4898f",
        "outputId": "f77ba0ca-e31a-4b31-a713-e69f0a5dd393"
      },
      "source": [
        "veri.head()"
      ],
      "id": "1de4898f",
      "execution_count": 106,
      "outputs": [
        {
          "output_type": "execute_result",
          "data": {
            "text/html": [
              "<div>\n",
              "<style scoped>\n",
              "    .dataframe tbody tr th:only-of-type {\n",
              "        vertical-align: middle;\n",
              "    }\n",
              "\n",
              "    .dataframe tbody tr th {\n",
              "        vertical-align: top;\n",
              "    }\n",
              "\n",
              "    .dataframe thead th {\n",
              "        text-align: right;\n",
              "    }\n",
              "</style>\n",
              "<table border=\"1\" class=\"dataframe\">\n",
              "  <thead>\n",
              "    <tr style=\"text-align: right;\">\n",
              "      <th></th>\n",
              "      <th>Attrition_Flag</th>\n",
              "      <th>Customer_Age</th>\n",
              "      <th>Gender</th>\n",
              "      <th>Dependent_count</th>\n",
              "      <th>Education_Level</th>\n",
              "      <th>Marital_Status</th>\n",
              "      <th>Income_Category</th>\n",
              "      <th>Card_Category</th>\n",
              "      <th>Months_on_book</th>\n",
              "      <th>Total_Relationship_Count</th>\n",
              "      <th>Months_Inactive_12_mon</th>\n",
              "      <th>Contacts_Count_12_mon</th>\n",
              "      <th>Credit_Limit</th>\n",
              "      <th>Total_Revolving_Bal</th>\n",
              "      <th>Avg_Open_To_Buy</th>\n",
              "      <th>Total_Amt_Chng_Q4_Q1</th>\n",
              "      <th>Total_Trans_Amt</th>\n",
              "      <th>Total_Trans_Ct</th>\n",
              "      <th>Total_Ct_Chng_Q4_Q1</th>\n",
              "      <th>Avg_Utilization_Ratio</th>\n",
              "    </tr>\n",
              "  </thead>\n",
              "  <tbody>\n",
              "    <tr>\n",
              "      <th>0</th>\n",
              "      <td>1</td>\n",
              "      <td>45</td>\n",
              "      <td>1</td>\n",
              "      <td>3</td>\n",
              "      <td>3</td>\n",
              "      <td>1</td>\n",
              "      <td>2</td>\n",
              "      <td>0</td>\n",
              "      <td>39</td>\n",
              "      <td>5</td>\n",
              "      <td>1</td>\n",
              "      <td>3</td>\n",
              "      <td>12691.0</td>\n",
              "      <td>777</td>\n",
              "      <td>11914.0</td>\n",
              "      <td>1.335</td>\n",
              "      <td>1144</td>\n",
              "      <td>42</td>\n",
              "      <td>1.625</td>\n",
              "      <td>0.061</td>\n",
              "    </tr>\n",
              "    <tr>\n",
              "      <th>1</th>\n",
              "      <td>1</td>\n",
              "      <td>49</td>\n",
              "      <td>0</td>\n",
              "      <td>5</td>\n",
              "      <td>2</td>\n",
              "      <td>2</td>\n",
              "      <td>4</td>\n",
              "      <td>0</td>\n",
              "      <td>44</td>\n",
              "      <td>6</td>\n",
              "      <td>1</td>\n",
              "      <td>2</td>\n",
              "      <td>8256.0</td>\n",
              "      <td>864</td>\n",
              "      <td>7392.0</td>\n",
              "      <td>1.541</td>\n",
              "      <td>1291</td>\n",
              "      <td>33</td>\n",
              "      <td>3.714</td>\n",
              "      <td>0.105</td>\n",
              "    </tr>\n",
              "    <tr>\n",
              "      <th>2</th>\n",
              "      <td>1</td>\n",
              "      <td>51</td>\n",
              "      <td>1</td>\n",
              "      <td>3</td>\n",
              "      <td>2</td>\n",
              "      <td>1</td>\n",
              "      <td>3</td>\n",
              "      <td>0</td>\n",
              "      <td>36</td>\n",
              "      <td>4</td>\n",
              "      <td>1</td>\n",
              "      <td>0</td>\n",
              "      <td>3418.0</td>\n",
              "      <td>0</td>\n",
              "      <td>3418.0</td>\n",
              "      <td>2.594</td>\n",
              "      <td>1887</td>\n",
              "      <td>20</td>\n",
              "      <td>2.333</td>\n",
              "      <td>0.000</td>\n",
              "    </tr>\n",
              "    <tr>\n",
              "      <th>3</th>\n",
              "      <td>1</td>\n",
              "      <td>40</td>\n",
              "      <td>0</td>\n",
              "      <td>4</td>\n",
              "      <td>3</td>\n",
              "      <td>3</td>\n",
              "      <td>4</td>\n",
              "      <td>0</td>\n",
              "      <td>34</td>\n",
              "      <td>3</td>\n",
              "      <td>4</td>\n",
              "      <td>1</td>\n",
              "      <td>3313.0</td>\n",
              "      <td>2517</td>\n",
              "      <td>796.0</td>\n",
              "      <td>1.405</td>\n",
              "      <td>1171</td>\n",
              "      <td>20</td>\n",
              "      <td>2.333</td>\n",
              "      <td>0.760</td>\n",
              "    </tr>\n",
              "    <tr>\n",
              "      <th>4</th>\n",
              "      <td>1</td>\n",
              "      <td>40</td>\n",
              "      <td>1</td>\n",
              "      <td>3</td>\n",
              "      <td>5</td>\n",
              "      <td>1</td>\n",
              "      <td>2</td>\n",
              "      <td>0</td>\n",
              "      <td>21</td>\n",
              "      <td>5</td>\n",
              "      <td>1</td>\n",
              "      <td>0</td>\n",
              "      <td>4716.0</td>\n",
              "      <td>0</td>\n",
              "      <td>4716.0</td>\n",
              "      <td>2.175</td>\n",
              "      <td>816</td>\n",
              "      <td>28</td>\n",
              "      <td>2.500</td>\n",
              "      <td>0.000</td>\n",
              "    </tr>\n",
              "  </tbody>\n",
              "</table>\n",
              "</div>"
            ],
            "text/plain": [
              "   Attrition_Flag  Customer_Age  ...  Total_Ct_Chng_Q4_Q1  Avg_Utilization_Ratio\n",
              "0               1            45  ...                1.625                  0.061\n",
              "1               1            49  ...                3.714                  0.105\n",
              "2               1            51  ...                2.333                  0.000\n",
              "3               1            40  ...                2.333                  0.760\n",
              "4               1            40  ...                2.500                  0.000\n",
              "\n",
              "[5 rows x 20 columns]"
            ]
          },
          "metadata": {
            "tags": []
          },
          "execution_count": 106
        }
      ]
    },
    {
      "cell_type": "code",
      "metadata": {
        "id": "acb86f76"
      },
      "source": [
        "#Attrition Flag i son koluma taşıdık\n",
        "veri = veri[['Customer_Age', 'Gender',\n",
        " 'Dependent_count',\n",
        " 'Education_Level',\n",
        " 'Marital_Status',\n",
        " 'Income_Category',\n",
        " 'Card_Category',\n",
        " 'Months_on_book',\n",
        " 'Total_Relationship_Count',\n",
        " 'Months_Inactive_12_mon',\n",
        " 'Contacts_Count_12_mon',\n",
        " 'Credit_Limit',\n",
        " 'Total_Revolving_Bal',\n",
        " 'Avg_Open_To_Buy',\n",
        " 'Total_Amt_Chng_Q4_Q1',\n",
        " 'Total_Trans_Amt',\n",
        " 'Total_Trans_Ct',\n",
        " 'Total_Ct_Chng_Q4_Q1',\n",
        " 'Avg_Utilization_Ratio', 'Attrition_Flag']]"
      ],
      "id": "acb86f76",
      "execution_count": 107,
      "outputs": []
    },
    {
      "cell_type": "code",
      "metadata": {
        "colab": {
          "base_uri": "https://localhost:8080/",
          "height": 215
        },
        "id": "0284257e",
        "outputId": "8e0ff6cd-51fb-4cd4-f4b4-dd0bebc1a83a"
      },
      "source": [
        "veri.head()"
      ],
      "id": "0284257e",
      "execution_count": 108,
      "outputs": [
        {
          "output_type": "execute_result",
          "data": {
            "text/html": [
              "<div>\n",
              "<style scoped>\n",
              "    .dataframe tbody tr th:only-of-type {\n",
              "        vertical-align: middle;\n",
              "    }\n",
              "\n",
              "    .dataframe tbody tr th {\n",
              "        vertical-align: top;\n",
              "    }\n",
              "\n",
              "    .dataframe thead th {\n",
              "        text-align: right;\n",
              "    }\n",
              "</style>\n",
              "<table border=\"1\" class=\"dataframe\">\n",
              "  <thead>\n",
              "    <tr style=\"text-align: right;\">\n",
              "      <th></th>\n",
              "      <th>Customer_Age</th>\n",
              "      <th>Gender</th>\n",
              "      <th>Dependent_count</th>\n",
              "      <th>Education_Level</th>\n",
              "      <th>Marital_Status</th>\n",
              "      <th>Income_Category</th>\n",
              "      <th>Card_Category</th>\n",
              "      <th>Months_on_book</th>\n",
              "      <th>Total_Relationship_Count</th>\n",
              "      <th>Months_Inactive_12_mon</th>\n",
              "      <th>Contacts_Count_12_mon</th>\n",
              "      <th>Credit_Limit</th>\n",
              "      <th>Total_Revolving_Bal</th>\n",
              "      <th>Avg_Open_To_Buy</th>\n",
              "      <th>Total_Amt_Chng_Q4_Q1</th>\n",
              "      <th>Total_Trans_Amt</th>\n",
              "      <th>Total_Trans_Ct</th>\n",
              "      <th>Total_Ct_Chng_Q4_Q1</th>\n",
              "      <th>Avg_Utilization_Ratio</th>\n",
              "      <th>Attrition_Flag</th>\n",
              "    </tr>\n",
              "  </thead>\n",
              "  <tbody>\n",
              "    <tr>\n",
              "      <th>0</th>\n",
              "      <td>45</td>\n",
              "      <td>1</td>\n",
              "      <td>3</td>\n",
              "      <td>3</td>\n",
              "      <td>1</td>\n",
              "      <td>2</td>\n",
              "      <td>0</td>\n",
              "      <td>39</td>\n",
              "      <td>5</td>\n",
              "      <td>1</td>\n",
              "      <td>3</td>\n",
              "      <td>12691.0</td>\n",
              "      <td>777</td>\n",
              "      <td>11914.0</td>\n",
              "      <td>1.335</td>\n",
              "      <td>1144</td>\n",
              "      <td>42</td>\n",
              "      <td>1.625</td>\n",
              "      <td>0.061</td>\n",
              "      <td>1</td>\n",
              "    </tr>\n",
              "    <tr>\n",
              "      <th>1</th>\n",
              "      <td>49</td>\n",
              "      <td>0</td>\n",
              "      <td>5</td>\n",
              "      <td>2</td>\n",
              "      <td>2</td>\n",
              "      <td>4</td>\n",
              "      <td>0</td>\n",
              "      <td>44</td>\n",
              "      <td>6</td>\n",
              "      <td>1</td>\n",
              "      <td>2</td>\n",
              "      <td>8256.0</td>\n",
              "      <td>864</td>\n",
              "      <td>7392.0</td>\n",
              "      <td>1.541</td>\n",
              "      <td>1291</td>\n",
              "      <td>33</td>\n",
              "      <td>3.714</td>\n",
              "      <td>0.105</td>\n",
              "      <td>1</td>\n",
              "    </tr>\n",
              "    <tr>\n",
              "      <th>2</th>\n",
              "      <td>51</td>\n",
              "      <td>1</td>\n",
              "      <td>3</td>\n",
              "      <td>2</td>\n",
              "      <td>1</td>\n",
              "      <td>3</td>\n",
              "      <td>0</td>\n",
              "      <td>36</td>\n",
              "      <td>4</td>\n",
              "      <td>1</td>\n",
              "      <td>0</td>\n",
              "      <td>3418.0</td>\n",
              "      <td>0</td>\n",
              "      <td>3418.0</td>\n",
              "      <td>2.594</td>\n",
              "      <td>1887</td>\n",
              "      <td>20</td>\n",
              "      <td>2.333</td>\n",
              "      <td>0.000</td>\n",
              "      <td>1</td>\n",
              "    </tr>\n",
              "    <tr>\n",
              "      <th>3</th>\n",
              "      <td>40</td>\n",
              "      <td>0</td>\n",
              "      <td>4</td>\n",
              "      <td>3</td>\n",
              "      <td>3</td>\n",
              "      <td>4</td>\n",
              "      <td>0</td>\n",
              "      <td>34</td>\n",
              "      <td>3</td>\n",
              "      <td>4</td>\n",
              "      <td>1</td>\n",
              "      <td>3313.0</td>\n",
              "      <td>2517</td>\n",
              "      <td>796.0</td>\n",
              "      <td>1.405</td>\n",
              "      <td>1171</td>\n",
              "      <td>20</td>\n",
              "      <td>2.333</td>\n",
              "      <td>0.760</td>\n",
              "      <td>1</td>\n",
              "    </tr>\n",
              "    <tr>\n",
              "      <th>4</th>\n",
              "      <td>40</td>\n",
              "      <td>1</td>\n",
              "      <td>3</td>\n",
              "      <td>5</td>\n",
              "      <td>1</td>\n",
              "      <td>2</td>\n",
              "      <td>0</td>\n",
              "      <td>21</td>\n",
              "      <td>5</td>\n",
              "      <td>1</td>\n",
              "      <td>0</td>\n",
              "      <td>4716.0</td>\n",
              "      <td>0</td>\n",
              "      <td>4716.0</td>\n",
              "      <td>2.175</td>\n",
              "      <td>816</td>\n",
              "      <td>28</td>\n",
              "      <td>2.500</td>\n",
              "      <td>0.000</td>\n",
              "      <td>1</td>\n",
              "    </tr>\n",
              "  </tbody>\n",
              "</table>\n",
              "</div>"
            ],
            "text/plain": [
              "   Customer_Age  Gender  ...  Avg_Utilization_Ratio  Attrition_Flag\n",
              "0            45       1  ...                  0.061               1\n",
              "1            49       0  ...                  0.105               1\n",
              "2            51       1  ...                  0.000               1\n",
              "3            40       0  ...                  0.760               1\n",
              "4            40       1  ...                  0.000               1\n",
              "\n",
              "[5 rows x 20 columns]"
            ]
          },
          "metadata": {
            "tags": []
          },
          "execution_count": 108
        }
      ]
    },
    {
      "cell_type": "code",
      "metadata": {
        "id": "d2bac371"
      },
      "source": [
        "def convert_to_list():\n",
        "    dataset = list()\n",
        "    # dataframe'in listeye dönüştürülmesi\n",
        "    dataset = veri.values.tolist()\n",
        "    return dataset"
      ],
      "id": "d2bac371",
      "execution_count": 109,
      "outputs": []
    },
    {
      "cell_type": "code",
      "metadata": {
        "id": "9b916d2b"
      },
      "source": [
        "# String değerleri integera çevirme aşaması\n",
        "def str_column_to_int(dataset, column):\n",
        "    class_values = [row[column] for row in dataset]\n",
        "    unique = set(class_values)\n",
        "    lookup = dict()\n",
        "    for i, value in enumerate(unique):\n",
        "        lookup[value] = i\n",
        "    for row in dataset:\n",
        "        row[column] = lookup[row[column]]"
      ],
      "id": "9b916d2b",
      "execution_count": 110,
      "outputs": []
    },
    {
      "cell_type": "code",
      "metadata": {
        "id": "0c4a1746"
      },
      "source": [
        "# Her sütunun min ve max değerlerini bulma kısmı  \n",
        "def dataset_minmax(dataset):\n",
        "    minmax = list()\n",
        "    stats = [[min(column), max(column)] for column in zip(*dataset)]\n",
        "    # zip(*) ile transpoz benzeri bir işlem yapılır ve dataset değişkeni içindeki bütün kolonların min ve max değerleri bulunur.\n",
        "    return stats"
      ],
      "id": "0c4a1746",
      "execution_count": 111,
      "outputs": []
    },
    {
      "cell_type": "code",
      "metadata": {
        "id": "9ec5ba11"
      },
      "source": [
        "# Datasetteki sütun değerlerini 0-1 aralığında olacak şekilde ölçeklendirme\n",
        "def normalize_dataset(dataset, minmax):\n",
        "    for row in dataset:\n",
        "        for i in range(len(row)-1):\n",
        "            row[i] = (row[i] - minmax[i][0]) / (minmax[i][1] - minmax[i][0])"
      ],
      "id": "9ec5ba11",
      "execution_count": 112,
      "outputs": []
    },
    {
      "cell_type": "code",
      "metadata": {
        "id": "4948689b"
      },
      "source": [
        "# k folds adedince verisetini bölme işlemi\n",
        "def cross_validation_split(dataset, n_folds):\n",
        "    dataset_split = list()\n",
        "    dataset_copy = list(dataset)\n",
        "    fold_size = int(len(dataset) / n_folds)\n",
        "    for i in range(n_folds):\n",
        "        fold = list()\n",
        "        while len(fold) < fold_size:\n",
        "            index = randrange(len(dataset_copy))\n",
        "            fold.append(dataset_copy.pop(index))\n",
        "        dataset_split.append(fold)\n",
        "    return dataset_split"
      ],
      "id": "4948689b",
      "execution_count": 113,
      "outputs": []
    },
    {
      "cell_type": "code",
      "metadata": {
        "id": "c8842859"
      },
      "source": [
        "# Programın doğruluk yüzdesini hesaplama\n",
        "def accuracy_metric(actual, predicted):\n",
        "    correct = 0\n",
        "    for i in range(len(actual)):\n",
        "        if actual[i] == predicted[i]:\n",
        "            correct += 1\n",
        "    return correct / float(len(actual)) * 100.0"
      ],
      "id": "c8842859",
      "execution_count": 114,
      "outputs": []
    },
    {
      "cell_type": "code",
      "metadata": {
        "id": "632cac98"
      },
      "source": [
        "# Bir girdi için nöron aktivasyonunu hesaplama\n",
        "def input_function(weights, inputs):\n",
        "    lastInput = weights[-1]\n",
        "    for i in range(len(weights)-1):\n",
        "        lastInput += weights[i] * inputs[i]\n",
        "    return lastInput"
      ],
      "id": "632cac98",
      "execution_count": 115,
      "outputs": []
    },
    {
      "cell_type": "code",
      "metadata": {
        "id": "fb50975b"
      },
      "source": [
        "# Transfer nöron aktivasyonu\n",
        "def activation_function(lastInput):\n",
        "    return 1.0 / (1.0 + exp(-lastInput))"
      ],
      "id": "fb50975b",
      "execution_count": 116,
      "outputs": []
    },
    {
      "cell_type": "code",
      "metadata": {
        "id": "aeb3e572"
      },
      "source": [
        "# Forward propagate input to a network output\n",
        "def forward_propagate(network, row):\n",
        "    inputs = row\n",
        "    for layer in network:\n",
        "        new_inputs = []\n",
        "        for neuron in layer:\n",
        "            lastInput = input_function(neuron['weights'], inputs)\n",
        "            neuron['output'] = activation_function(lastInput)\n",
        "            new_inputs.append(neuron['output'])\n",
        "        inputs = new_inputs\n",
        "    return inputs"
      ],
      "id": "aeb3e572",
      "execution_count": 117,
      "outputs": []
    },
    {
      "cell_type": "code",
      "metadata": {
        "id": "51196bd3"
      },
      "source": [
        "# Nöron çıktsının türevinin hesaplanması\n",
        "def transfer_derivative(output):\n",
        "    return output * (1.0 - output)"
      ],
      "id": "51196bd3",
      "execution_count": 118,
      "outputs": []
    },
    {
      "cell_type": "code",
      "metadata": {
        "id": "9fa145df"
      },
      "source": [
        "# Backpropagate hatası ve nöronlarda depolanması\n",
        "def backward_propagate_error(network, expected):\n",
        "    for i in reversed(range(len(network))):\n",
        "        layer = network[i]\n",
        "        errors = list()\n",
        "        if i != len(network)-1:\n",
        "            for j in range(len(layer)):\n",
        "                error = 0.0\n",
        "                for neuron in network[i + 1]:\n",
        "                    error += (neuron['weights'][j] * neuron['delta'])\n",
        "                errors.append(error)\n",
        "        else:\n",
        "            for j in range(len(layer)):\n",
        "                neuron = layer[j]\n",
        "                errors.append(expected[j] - neuron['output'])\n",
        "        for j in range(len(layer)):\n",
        "            neuron = layer[j]\n",
        "            neuron['delta'] = errors[j] * transfer_derivative(neuron['output'])"
      ],
      "id": "9fa145df",
      "execution_count": 119,
      "outputs": []
    },
    {
      "cell_type": "code",
      "metadata": {
        "id": "eea5c47c"
      },
      "source": [
        "# Ağ ağırlıklarını hatayla güncelleme\n",
        "def update_weights(network, row, l_rate):\n",
        "    for i in range(len(network)):\n",
        "        inputs = row[:-1]\n",
        "        if i != 0:\n",
        "            inputs = [neuron['output'] for neuron in network[i - 1]]\n",
        "        for neuron in network[i]:\n",
        "            for j in range(len(inputs)):\n",
        "                neuron['weights'][j] += l_rate * neuron['delta'] * inputs[j]\n",
        "            neuron['weights'][-1] += l_rate * neuron['delta'] # i'inci  biasları update etme"
      ],
      "id": "eea5c47c",
      "execution_count": 120,
      "outputs": []
    },
    {
      "cell_type": "code",
      "metadata": {
        "id": "bd803367"
      },
      "source": [
        "# Bir ağı sabit sayıda dönem için eğitin\n",
        "def train_network(train, l_rate, n_epoch, n_hidden, actData):\n",
        "    n_inputs = len(train[0]) - 1\n",
        "    n_outputs = len(set([row[-1] for row in train]))\n",
        "    network = initialize_network(n_inputs, n_hidden, n_outputs)\n",
        "    for epoch in range(n_epoch):\n",
        "        for row in train:\n",
        "            forward_propagate(network, row)\n",
        "            expected = [0 for i in range(n_outputs)]\n",
        "            expected[row[-1]] = 1\n",
        "            backward_propagate_error(network, expected)\n",
        "            update_weights(network, row, l_rate)\n",
        "    return network\n",
        "    \n"
      ],
      "id": "bd803367",
      "execution_count": 121,
      "outputs": []
    },
    {
      "cell_type": "code",
      "metadata": {
        "id": "ff932ea6"
      },
      "source": [
        "# Ağın başlatılması\n",
        "def initialize_network(n_inputs, n_hidden, n_outputs):\n",
        "    network = list()\n",
        "    hidden_layer = [{'weights':[random() for i in range(n_inputs + 1)]} for i in range(n_hidden)]\n",
        "    network.append(hidden_layer)\n",
        "    output_layer = [{'weights':[random() for i in range(n_hidden + 1)]} for i in range(n_outputs)]\n",
        "    network.append(output_layer)\n",
        "    return network"
      ],
      "id": "ff932ea6",
      "execution_count": 122,
      "outputs": []
    },
    {
      "cell_type": "code",
      "metadata": {
        "id": "46497fb0"
      },
      "source": [
        "# Ağı kullanarak tahmin işlemlerinin yapılması\n",
        "def predict(network, test):\n",
        "    predictions = list()\n",
        "    for row in test:\n",
        "        outputs = forward_propagate(network, row)\n",
        "        prediction = outputs.index(max(outputs))\n",
        "        predictions.append(prediction)\n",
        "    return(predictions)"
      ],
      "id": "46497fb0",
      "execution_count": 123,
      "outputs": []
    },
    {
      "cell_type": "code",
      "metadata": {
        "colab": {
          "base_uri": "https://localhost:8080/"
        },
        "id": "sPss9Aq16QJW",
        "outputId": "7a1a41f3-19c2-43d5-b1e1-e7657a21e22a"
      },
      "source": [
        "#Verilerin yüklenmesi\n",
        "dataset = convert_to_list()\n",
        "\n",
        "# sınıf sütununu tam sayıya dönüştür\n",
        "str_column_to_int(dataset, len(dataset[0])-1)\n",
        "\n",
        "# girdi değişkenlerini normalleştirme\n",
        "minmax = dataset_minmax(dataset)\n",
        "normalize_dataset(dataset, minmax)\n",
        "\n",
        "# algoritmanın hazırlanması\n",
        "n_folds = 5\n",
        "l_rate = 0.1\n",
        "n_epoch = 50\n",
        "n_hidden = 5\n",
        "\n",
        "\n",
        "folds = cross_validation_split(dataset, n_folds)\n",
        "scores = list()\n",
        "for fold in folds:\n",
        "    train_set = list(folds)\n",
        "    train_set.remove(fold)\n",
        "    train_set = sum(train_set, [])\n",
        "    test_set = list(fold)\n",
        "    actual = [row[-1] for row in fold]\n",
        "    network = train_network(train_set, l_rate, n_epoch, n_hidden, actual )\n",
        "    predicted = predict(network, test_set)\n",
        "    \n",
        "    accuracy = accuracy_metric(actual, predicted)\n",
        "    scores.append(accuracy)\n",
        "print('Scores: %s' % scores)\n",
        "print('Mean Accuracy: %.3f%%' % (sum(scores)/float(len(scores))))"
      ],
      "id": "sPss9Aq16QJW",
      "execution_count": 124,
      "outputs": [
        {
          "output_type": "stream",
          "text": [
            "Scores: [89.58024691358024, 92.09876543209876, 92.5925925925926, 91.60493827160494, 91.01234567901234]\n",
            "Mean Accuracy: 91.378%\n"
          ],
          "name": "stdout"
        }
      ]
    },
    {
      "cell_type": "code",
      "metadata": {
        "colab": {
          "base_uri": "https://localhost:8080/",
          "height": 282
        },
        "id": "4sDXYj8xvFGi",
        "outputId": "15d698f6-5546-4b11-c108-dbe972cc7129"
      },
      "source": [
        "x = [1, 2, 3, 4, 5]\n",
        "plt.plot(x, scores)"
      ],
      "id": "4sDXYj8xvFGi",
      "execution_count": 125,
      "outputs": [
        {
          "output_type": "execute_result",
          "data": {
            "text/plain": [
              "[<matplotlib.lines.Line2D at 0x7f47c3dcfe90>]"
            ]
          },
          "metadata": {
            "tags": []
          },
          "execution_count": 125
        },
        {
          "output_type": "display_data",
          "data": {
            "image/png": "[encoded data removed]",
            "text/plain": [
              "<Figure size 432x288 with 1 Axes>"
            ]
          },
          "metadata": {
            "tags": [],
            "needs_background": "light"
          }
        }
      ]
    }
  ]
}